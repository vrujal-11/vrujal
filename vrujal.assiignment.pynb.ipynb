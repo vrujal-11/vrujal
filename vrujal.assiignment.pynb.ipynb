{
 "cells": [
  {
   "cell_type": "code",
   "execution_count": 1,
   "id": "99e0588e-2645-4b1e-b9e9-2814a27b6183",
   "metadata": {},
   "outputs": [
    {
     "data": {
      "text/plain": [
       "'\\ncloud application, desktop application,mobile application,web application,gaming application,database application, server application'"
      ]
     },
     "execution_count": 1,
     "metadata": {},
     "output_type": "execute_result"
    }
   ],
   "source": [
    "# (1) What are the types of Applications?\n",
    "'''\n",
    "cloud application, desktop application,mobile application,web application,gaming application,database application, server application'''\n"
   ]
  },
  {
   "cell_type": "code",
   "execution_count": null,
   "id": "9b342ff4-4c88-4819-a7d9-f35d613236c3",
   "metadata": {},
   "outputs": [],
   "source": [
    "#(2)What is programing? \n",
    "''' programing is a one type of term in which we can write a diffrent diffrent computer langugages code like pytjon , c ,c++,java to perform  \n",
    "    a task and make an application ,software and system in computer.'''"
   ]
  },
  {
   "cell_type": "code",
   "execution_count": null,
   "id": "ed9d0146-1995-4e73-8899-eba9c21522f5",
   "metadata": {},
   "outputs": [],
   "source": [
    "#(3) What is Python? \n",
    "''' python is a simple programming language which is  easy and have a wide range of framwork and libraries,which is find by guido van rossum in 1991 .\n",
    "    it is use for application  devlopment ,software devlopment ,artificial intelligence, robotics.\n",
    "'''"
   ]
  },
  {
   "cell_type": "code",
   "execution_count": 9,
   "id": "9d90428c-5845-4d1a-b2d9-64eff93f3a62",
   "metadata": {},
   "outputs": [
    {
     "name": "stdout",
     "output_type": "stream",
     "text": [
      "enter a number -5\n"
     ]
    },
    {
     "name": "stdout",
     "output_type": "stream",
     "text": [
      "number is nagetive\n"
     ]
    }
   ],
   "source": [
    "#(4) Write a Python program to check if a number is positive, negative or zero. \n",
    "a = int(input(\"enter a number\"))\n",
    "if a>0:\n",
    "    print(\"number is positive\")\n",
    "elif a==0:\n",
    "     print(\"number is zero\")\n",
    "else:\n",
    "     print(\"number is nagetive\")"
   ]
  },
  {
   "cell_type": "code",
   "execution_count": 7,
   "id": "22b5c5f5-e58a-45a3-83e1-788f95283760",
   "metadata": {},
   "outputs": [
    {
     "name": "stdout",
     "output_type": "stream",
     "text": [
      "enter a number 4\n"
     ]
    },
    {
     "name": "stdout",
     "output_type": "stream",
     "text": [
      "factorial of  given number is : 24\n"
     ]
    }
   ],
   "source": [
    "#(5) Write a Python program to get the Factorial number of given numbers. \n",
    "x= int(input(\"enter a number\"))\n",
    "if x<0 :\n",
    "       print(\"write a positive number\")\n",
    "else:\n",
    "       factorial = 1\n",
    "       for  i in range (1,x+1):\n",
    "           factorial*= i\n",
    "       print(\"factorial of  given number is :\",factorial)\n"
   ]
  },
  {
   "cell_type": "code",
   "execution_count": 13,
   "id": "30c1c4df-1a48-4331-a895-14b6bd01f85e",
   "metadata": {},
   "outputs": [
    {
     "name": "stdout",
     "output_type": "stream",
     "text": [
      "enter a number 4\n"
     ]
    },
    {
     "name": "stdout",
     "output_type": "stream",
     "text": [
      "0 1 1 2 "
     ]
    }
   ],
   "source": [
    "#(6) Write a Python program to get the Fibonacci series of given range. \n",
    "x1 = int(input(\"enter a number\"))\n",
    "p,q = 0,1\n",
    "for i in range(x1):\n",
    "    print(p, end=\" \")\n",
    "    p,q = q,p+q\n"
   ]
  },
  {
   "cell_type": "code",
   "execution_count": null,
   "id": "a16b52fa-6146-4fd5-a076-bb796499893d",
   "metadata": {},
   "outputs": [],
   "source": [
    "#(7) How memory is managed in Python?\n",
    "'''In Python memory allocation and deallocation method is automatic as the Python developers created a garbage collector for Python so that\n",
    "   the user does not have to do manual garbage collection.\n",
    "   \n",
    "   Garbage Collection:\n",
    "                      Garbage collection is a process in which the interpreter frees up the memory when not in use to make it available for \n",
    "                      other objects.\n",
    "   Reference Counting:\n",
    "                      Reference counting works by counting the number of times an object is referenced by other objects in the system. When \n",
    "                      references to an object are removed, the reference count for an object is decremented. When the reference count becomes \n",
    "                      zero, the object is deallocated.\n",
    "'''"
   ]
  },
  {
   "cell_type": "code",
   "execution_count": 25,
   "id": "c5706be3-b67c-44d2-bfee-49caacc3584f",
   "metadata": {},
   "outputs": [
    {
     "name": "stdout",
     "output_type": "stream",
     "text": [
      "1\n",
      "2\n",
      "4\n",
      "5\n"
     ]
    }
   ],
   "source": [
    "#(8) What is the purpose continuing statement in python?\n",
    "'''Continue statement is a loop control statement that forces to execute the next iteration of the loop while skipping the rest of the code \n",
    "   inside the loop for the current iteration only.\n",
    "'''\n",
    "for i in range(1,6):\n",
    "   if i == 3:\n",
    "    continue\n",
    "   print(i)"
   ]
  },
  {
   "cell_type": "code",
   "execution_count": 31,
   "id": "9a7d581c-f684-4457-841d-fed3a464d2bb",
   "metadata": {},
   "outputs": [
    {
     "name": "stdout",
     "output_type": "stream",
     "text": [
      "enter a number a 1\n",
      "enter a number b 2\n"
     ]
    },
    {
     "name": "stdout",
     "output_type": "stream",
     "text": [
      "number after swapping are:a =  2 b= 1\n"
     ]
    }
   ],
   "source": [
    "#(9) Write python program that swap two number with temp variable and without temp variable.\n",
    "''' with temp'''\n",
    "x3 = int(input(\"enter a number a\"))\n",
    "x4 = int(input(\"enter a number b\"))\n",
    "\n",
    "temp = x3 \n",
    "x3=x4\n",
    "x4= temp\n",
    "print(\"number after swapping are:\" \"a = \",x3 ,\"b=\",x4)"
   ]
  },
  {
   "cell_type": "code",
   "execution_count": 35,
   "id": "6f7686e5-f0d8-4577-a280-6fccbf76c736",
   "metadata": {},
   "outputs": [
    {
     "name": "stdout",
     "output_type": "stream",
     "text": [
      "number before swapping are :a =  1 b= 2\n",
      "number after swapping are :a =  2 b= 1\n"
     ]
    }
   ],
   "source": [
    "''' with out temp'''\n",
    "print(\"number before swapping are :\" \"a = \",x3 ,\"b=\",x4)\n",
    "x3,x4= x4,x3\n",
    "print(\"number after swapping are :\" \"a = \",x3 ,\"b=\",x4)"
   ]
  },
  {
   "cell_type": "code",
   "execution_count": 39,
   "id": "e9f82134-c512-44dd-bddc-03f9e35efc73",
   "metadata": {},
   "outputs": [
    {
     "name": "stdout",
     "output_type": "stream",
     "text": [
      "enter a number: 4\n"
     ]
    },
    {
     "name": "stdout",
     "output_type": "stream",
     "text": [
      "number is even\n"
     ]
    }
   ],
   "source": [
    "#(10) Write a Python program to find whether a given number is even or odd, print out an appropriate message to the user. \n",
    "x5= int(input(\"enter a number:\"))\n",
    "if x5 %2 == 0:\n",
    "    print(\"number is even\")\n",
    "else:\n",
    "    print(\"number is odd\")"
   ]
  },
  {
   "cell_type": "code",
   "execution_count": 43,
   "id": "0dd74dde-f047-4a5d-a45e-980f40e84c27",
   "metadata": {},
   "outputs": [
    {
     "name": "stdout",
     "output_type": "stream",
     "text": [
      "enter a letter  c\n"
     ]
    },
    {
     "name": "stdout",
     "output_type": "stream",
     "text": [
      "letter is not vowel\n"
     ]
    }
   ],
   "source": [
    "#(11) Write a Python program to test whether a passed letter is a vowel or not. \n",
    "x6 = input(\"enter a letter \")\n",
    "if x6 in 'AEIOUaeiou':\n",
    "    print(\"letter is vowel\")\n",
    "else:\n",
    "    print(\"letter is not vowel\")"
   ]
  },
  {
   "cell_type": "code",
   "execution_count": 47,
   "id": "073f90d2-cb08-4792-8119-e58ec2fe7d4f",
   "metadata": {},
   "outputs": [
    {
     "name": "stdout",
     "output_type": "stream",
     "text": [
      "enter a first number: 1\n",
      "enter a second number: 2\n",
      "enter a third number: 2\n"
     ]
    },
    {
     "name": "stdout",
     "output_type": "stream",
     "text": [
      "sum is zero\n"
     ]
    }
   ],
   "source": [
    "#(12) Write a Python program to sum of three given integers. However, if two values are equal sum will be zero.\n",
    "x7 = int(input(\"enter a first number:\"))\n",
    "x8 = int(input(\"enter a second number:\"))\n",
    "x9 = int(input(\"enter a third number:\"))\n",
    "\n",
    "if x7==x8 or x8==x9 or x9==x7:\n",
    "    print(\"sum is zero\")\n",
    "else:\n",
    "    print(\"the sum of the numbers is :\",x7+x8+x9)"
   ]
  },
  {
   "cell_type": "code",
   "execution_count": 51,
   "id": "4a91efd2-ea1c-45f1-8d33-a1260b849180",
   "metadata": {},
   "outputs": [
    {
     "name": "stdout",
     "output_type": "stream",
     "text": [
      "enter a first number: 2\n",
      "enter a second number: 4\n"
     ]
    },
    {
     "name": "stdout",
     "output_type": "stream",
     "text": [
      "false\n"
     ]
    }
   ],
   "source": [
    "#(13) Write a Python program that will return true if the two given integer values are equal or their sum or difference is 5. \n",
    "x10 = int(input(\"enter a first number:\"))\n",
    "x11 = int(input(\"enter a second number:\"))\n",
    "if x10==x11 or x10+x11==5 or x10-x11==5:\n",
    "    print(\"true\")\n",
    "else:\n",
    "    print(\"false\")"
   ]
  },
  {
   "cell_type": "code",
   "execution_count": 57,
   "id": "40f21676-3afd-4cdb-8d2e-2a5bbe0e9383",
   "metadata": {},
   "outputs": [
    {
     "name": "stdout",
     "output_type": "stream",
     "text": [
      "enter a number 6\n"
     ]
    },
    {
     "name": "stdout",
     "output_type": "stream",
     "text": [
      "21\n"
     ]
    }
   ],
   "source": [
    "#(14) Write a python program to sum of the first n positive integers. \n",
    "n = int(input(\"enter a number\"))\n",
    "sum = 0\n",
    "for i in range(1,n+1):\n",
    "    sum += i\n",
    "print(sum)\n",
    "    "
   ]
  },
  {
   "cell_type": "code",
   "execution_count": 65,
   "id": "ec1685a7-4998-4e0c-b023-498433bc8fb3",
   "metadata": {},
   "outputs": [
    {
     "name": "stdout",
     "output_type": "stream",
     "text": [
      "enter a string dhruvin\n"
     ]
    },
    {
     "name": "stdout",
     "output_type": "stream",
     "text": [
      "length of string is  7\n"
     ]
    }
   ],
   "source": [
    "#(15) Write a Python program to calculate the length of a string. \n",
    "x12 = input(\"enter a string\")\n",
    "print(\"length of string is \",len(x12))"
   ]
  },
  {
   "cell_type": "code",
   "execution_count": null,
   "id": "23bcc351-49d2-4c0c-b319-771ba648fcc2",
   "metadata": {},
   "outputs": [],
   "source": [
    "#(16) Write a Python program to count the number of characters (character frequency) in a string \n",
    "x13 = input(\"enter a string\")\n"
   ]
  },
  {
   "cell_type": "code",
   "execution_count": 77,
   "id": "71df2ef8-ef83-49b8-8030-93b99070f7b3",
   "metadata": {},
   "outputs": [
    {
     "name": "stdout",
     "output_type": "stream",
     "text": [
      "te\n"
     ]
    }
   ],
   "source": [
    "#(17) What are negative indexes and why are they used? \n",
    "'''Negative indexes in the context of list basics refer to the ability to access elements in a list by specifying a negative number\n",
    "   as the index. This allows you to count backwards from the end of the list, providing an alternative way to reference the same \n",
    "   elements.\n",
    "\n",
    "   for example:'''\n",
    "x14= \"patel\"\n",
    "print(x14[-3:-1])\n",
    "\n",
    "\n"
   ]
  },
  {
   "cell_type": "code",
   "execution_count": 79,
   "id": "4a722382-8a5a-4827-901e-6253c973729a",
   "metadata": {},
   "outputs": [
    {
     "name": "stdout",
     "output_type": "stream",
     "text": [
      "enter a string patel\n",
      "enter a sub string p\n"
     ]
    },
    {
     "name": "stdout",
     "output_type": "stream",
     "text": [
      "1\n"
     ]
    }
   ],
   "source": [
    "#(18) Write a Python program to count occurrences of a substring in a string.\n",
    "x15=input(\"enter a string\")\n",
    "x16=input(\"enter a sub string\")\n",
    "count = x15.count(x16)\n",
    "print(\"the total occcurrenece of substring is :\",count)"
   ]
  },
  {
   "cell_type": "code",
   "execution_count": 81,
   "id": "6fe15c5e-caf4-489f-adba-d7a4ca9e50a2",
   "metadata": {},
   "outputs": [
    {
     "name": "stdout",
     "output_type": "stream",
     "text": [
      "enter a santances hey ,there \n",
      "enter a word hey\n"
     ]
    },
    {
     "name": "stdout",
     "output_type": "stream",
     "text": [
      "the word occurrence in santances  is : 1\n"
     ]
    }
   ],
   "source": [
    "#(19 Write a Python program to count the occurrences of each word in a given sentence \n",
    "'''(pending)'''\n",
    "x17=input(\"enter a santances\")\n",
    "x18=input(\"enter a word\")\n",
    "count = x15.count(x16)\n",
    "print(\"the word occurrence in santances  is :\",count)\n"
   ]
  },
  {
   "cell_type": "code",
   "execution_count": 1,
   "id": "f4472810-6765-404e-a819-0fcfc557db88",
   "metadata": {},
   "outputs": [
    {
     "name": "stdout",
     "output_type": "stream",
     "text": [
      "enter a 1st string gfgfngf\n",
      "enter a 2nd string wsdffsfs\n"
     ]
    },
    {
     "data": {
      "text/plain": [
       "'wsgfngf gfdffsfs'"
      ]
     },
     "execution_count": 1,
     "metadata": {},
     "output_type": "execute_result"
    }
   ],
   "source": [
    "#(20) Write a Python program to get a single string from two given strings, separated by a space and swap the first two characters of each string. \n",
    "x19=input(\"enter a 1st string\")\n",
    "x20=input(\"enter a 2nd string\")\n",
    "\n",
    "p= x20[:2] + x19[2:]\n",
    "q= x19[:2] + x20[2:]\n",
    "x21= p + \" \"+ q\n",
    "x21\n"
   ]
  },
  {
   "cell_type": "code",
   "execution_count": 13,
   "id": "450deaed-3eab-4801-b38e-902d5ed5202b",
   "metadata": {},
   "outputs": [
    {
     "name": "stdout",
     "output_type": "stream",
     "text": [
      "enter a word : hello\n"
     ]
    },
    {
     "name": "stdout",
     "output_type": "stream",
     "text": [
      "helloing\n"
     ]
    }
   ],
   "source": [
    "#(21) Write a Python program to add 'in' at the end of a given string (length should be at least 3). If the given string already ends with 'ing' then\n",
    "# add 'ly' instead if the string length of the given string is less than 3, leave it unchanged. '''\n",
    "\n",
    "x21=input(\"enter a word :\")\n",
    "if len(x21)<3:\n",
    "    result = x21\n",
    "elif x21.endswith(\"ing\"):\n",
    "    result = x21+\"ly\"\n",
    "else:\n",
    "    result = x21+\"ing\"\n",
    "print(result)\n",
    "    \n"
   ]
  },
  {
   "cell_type": "code",
   "execution_count": 1,
   "id": "0cd07a8d-452f-46a7-863a-694b9940954a",
   "metadata": {},
   "outputs": [
    {
     "name": "stdout",
     "output_type": "stream",
     "text": [
      "enter a  string asdf\n"
     ]
    },
    {
     "data": {
      "text/plain": [
       "'fdsa'"
      ]
     },
     "execution_count": 1,
     "metadata": {},
     "output_type": "execute_result"
    }
   ],
   "source": [
    "#(22) Write a Python function to reverses a string if its length is a multiple of 4. \n",
    "x22=input(\"enter a  string\")\n",
    "if len(x22) %4 == 0:\n",
    "    x22= x22[::-1]\n",
    "x22"
   ]
  },
  {
   "cell_type": "code",
   "execution_count": null,
   "id": "23f1fa6d-a245-424d-8ace-11a5f100fe95",
   "metadata": {},
   "outputs": [],
   "source": [
    "#(23) Write a Python program to get a string made of the first 2 and the last 2 chars from a given a string. If the string length is less than 2, return\n",
    "# instead of the empty string. \n",
    "x23=input(\"enter a string\")\n",
    "if len(x23)<2:\n",
    "    print(\"\")\n",
    "else:\n",
    "    x24 = x23[:2]+x23[-2:]\n",
    "x24"
   ]
  },
  {
   "cell_type": "code",
   "execution_count": 5,
   "id": "7499b182-3607-4898-8097-daaffcc1e782",
   "metadata": {},
   "outputs": [
    {
     "name": "stdout",
     "output_type": "stream",
     "text": [
      "enter a 1st string dhruvin patel\n",
      "enter a 2nd string mahendrabhai\n"
     ]
    },
    {
     "data": {
      "text/plain": [
       "'dhruvi mahendrabhain patel'"
      ]
     },
     "execution_count": 5,
     "metadata": {},
     "output_type": "execute_result"
    }
   ],
   "source": [
    "#(24) Write a Python function to insert a string in the middle of a string.\n",
    "x25=input(\"enter a 1st string\")\n",
    "x26=input(\"enter a 2nd string\")\n",
    "\n",
    "x27 = len(x25)//2\n",
    "x28 = x25[:x27]+ \" \" + x26 +x25[x27:]\n",
    "x28"
   ]
  },
  {
   "cell_type": "code",
   "execution_count": 9,
   "id": "e5c3d634-b2ed-4cab-9aa0-930d1117df38",
   "metadata": {},
   "outputs": [
    {
     "data": {
      "text/plain": [
       "[6, 5, 4, 3, 2, 1]"
      ]
     },
     "execution_count": 9,
     "metadata": {},
     "output_type": "execute_result"
    }
   ],
   "source": [
    "#(25) What is List? How will you reverse a list? \n",
    "'''There are many built-in types in Python that allow us to group and store multiple items. Python lists are the most versatile among them.\n",
    "   A list is a collection of ordered, mutable elements '''\n",
    "l1= [1,2,3,4,5,6]\n",
    "l1.reverse()\n",
    "l1"
   ]
  },
  {
   "cell_type": "code",
   "execution_count": 11,
   "id": "86eee8a9-f2bf-476c-8cb2-d9241d16fd38",
   "metadata": {},
   "outputs": [
    {
     "data": {
      "text/plain": [
       "[1, 2, 3, 4, 5]"
      ]
     },
     "execution_count": 11,
     "metadata": {},
     "output_type": "execute_result"
    }
   ],
   "source": [
    "#(26) How will you remove last object from a list?\n",
    "l1= [1,2,3,4,5,6]\n",
    "l1.pop()\n",
    "l1"
   ]
  },
  {
   "cell_type": "code",
   "execution_count": null,
   "id": "107fd07f-db90-455a-9f1f-ce642ccb9990",
   "metadata": {},
   "outputs": [],
   "source": [
    "#(27) Suppose list1 is [2, 33, 222, 14, and 25], what is list1 [-1]? \n",
    "'''25'''"
   ]
  },
  {
   "cell_type": "code",
   "execution_count": 19,
   "id": "4b237e21-f07c-476c-aca8-579a998d01fa",
   "metadata": {},
   "outputs": [
    {
     "data": {
      "text/plain": [
       "[1, 2, 3, 4, 5, 6, [7, 8], 7, 8]"
      ]
     },
     "execution_count": 19,
     "metadata": {},
     "output_type": "execute_result"
    }
   ],
   "source": [
    "#(28) Differentiate between append () and extend () methods?\n",
    "''' the key diffrence between two method is\n",
    "    append() Adds a single element to the end of the list.extend()Adds multiple elements from an iterable to the end of the list.\n",
    "\tappend() Accepts a single element (any data type).extend()Accepts an iterable (e.g., list, tuple).'''\n",
    "   #example\n",
    "l2 = [1,2,3,4,5,6]\n",
    "l2.append([7,8])\n",
    "l2\n",
    "l2.extend([7,8])\n",
    "l2"
   ]
  },
  {
   "cell_type": "code",
   "execution_count": 21,
   "id": "2ca5298f-df7c-4612-9737-3cdb969b4022",
   "metadata": {},
   "outputs": [
    {
     "name": "stdout",
     "output_type": "stream",
     "text": [
      "large number is : 13\n",
      "small number is : 1\n",
      "sum number is : 49\n"
     ]
    }
   ],
   "source": [
    "#(29) Write a Python function to get the largest number, smallest num and sum of all from a list. \n",
    "l3=[1,3,5,7,9,11,13]\n",
    "large = max(l3)\n",
    "small = min(l3)\n",
    "sum = sum(l3)\n",
    "print(\"large number is :\",large)\n",
    "print(\"small number is :\",small)\n",
    "print(\"sum number is :\",sum)"
   ]
  },
  {
   "cell_type": "code",
   "execution_count": 23,
   "id": "34666b5d-a1a9-4aa3-b0c6-83a2356414b8",
   "metadata": {},
   "outputs": [
    {
     "name": "stdout",
     "output_type": "stream",
     "text": [
      "list are not equal\n"
     ]
    }
   ],
   "source": [
    "#(30)How will you compare two lists?\n",
    "l4=[1,2,3,4]\n",
    "l5=[5,6,7,8]\n",
    "if l4 == l5:\n",
    "    print(\"list are equal\")\n",
    "else:\n",
    "    print(\"list are not equal\")"
   ]
  },
  {
   "cell_type": "code",
   "execution_count": 115,
   "id": "4d7a10e8-73ca-4956-804d-114a83484114",
   "metadata": {},
   "outputs": [
    {
     "name": "stdout",
     "output_type": "stream",
     "text": [
      "1\n"
     ]
    }
   ],
   "source": [
    "#(31) Write a Python program to count the number of strings where the string length is 2 or more and the first and last character are same from a\n",
    "#given list of strings.\n",
    "'''pending'''\n",
    "count= 0\n",
    "x29 = ['abc','vfe','gfgfd','asd']\n",
    "if len(x29)>=2 or x29[0]==x29[-1]:\n",
    "    count+=1\n",
    "    print(count)\n",
    " "
   ]
  },
  {
   "cell_type": "code",
   "execution_count": 39,
   "id": "b9a3a55e-b876-4b3d-a78e-7a588c2b2be4",
   "metadata": {},
   "outputs": [
    {
     "data": {
      "text/plain": [
       "{1, 2, 3, 4, 5}"
      ]
     },
     "execution_count": 39,
     "metadata": {},
     "output_type": "execute_result"
    }
   ],
   "source": [
    "#(32)Write a Python program to remove duplicates from a list.\n",
    "\n",
    "l4=[1,2,3,4,4,5]\n",
    "l5=set(l4)\n",
    "l5"
   ]
  },
  {
   "cell_type": "code",
   "execution_count": 41,
   "id": "a9ca7203-38b8-4db0-850c-f04f94e2b04a",
   "metadata": {},
   "outputs": [
    {
     "name": "stdout",
     "output_type": "stream",
     "text": [
      "list is empty\n"
     ]
    }
   ],
   "source": [
    "#(33)Write a Python program to check a list is empty or not\n",
    "l6 = []\n",
    "if len(l6) == 0:\n",
    "    print(\"list is empty\")\n",
    "else:\n",
    "    print(\"list is not empty\")"
   ]
  },
  {
   "cell_type": "code",
   "execution_count": 51,
   "id": "2a6a7ab0-e9f9-4cc3-8654-3d61cca98d89",
   "metadata": {},
   "outputs": [
    {
     "name": "stdout",
     "output_type": "stream",
     "text": [
      "true\n"
     ]
    }
   ],
   "source": [
    "#(34) Write a Python function that takes two lists and returns true if they have at least one common member. \n",
    "l7 = [1,2,3,4]\n",
    "l8 = [4,5,6,7]\n",
    "\n",
    "\n",
    "for i in l7:\n",
    "    if i in l8:\n",
    "        x = \"true\"\n",
    "        break\n",
    "    else:\n",
    "        x= \"false\"\n",
    "print(x)\n"
   ]
  },
  {
   "cell_type": "code",
   "execution_count": 57,
   "id": "0f571b36-92c0-4e6a-936d-dc4ed0994f4a",
   "metadata": {},
   "outputs": [
    {
     "name": "stdout",
     "output_type": "stream",
     "text": [
      "[1, 4, 9, 16, 25, 676, 729, 784, 841, 900]\n"
     ]
    }
   ],
   "source": [
    "#(35) Write a Python program to generate and print a list of first and last 5 elements where the values are square of numbers between 1 and 30.\n",
    "l9=[i**2  for i in range (1,31)]\n",
    "print(l9[:5]+l9[-5:])"
   ]
  },
  {
   "cell_type": "code",
   "execution_count": 59,
   "id": "f62f4e65-ed1a-439e-b155-dd0c20b4ecf0",
   "metadata": {},
   "outputs": [
    {
     "data": {
      "text/plain": [
       "{1, 2, 3, 4, 5, 'a', 'b'}"
      ]
     },
     "execution_count": 59,
     "metadata": {},
     "output_type": "execute_result"
    }
   ],
   "source": [
    "#(36) Write a Python function that takes a list and returns a new list with unique elements of the first list.\n",
    "l10 = [1,2,3,4,3,2,5,'a','b']\n",
    "l11 = set(l10)\n",
    "l11"
   ]
  },
  {
   "cell_type": "code",
   "execution_count": 63,
   "id": "3cc3d3c6-b340-4c6b-a64a-8a8fee8dd221",
   "metadata": {},
   "outputs": [
    {
     "data": {
      "text/plain": [
       "'patel'"
      ]
     },
     "execution_count": 63,
     "metadata": {},
     "output_type": "execute_result"
    }
   ],
   "source": [
    "#(37)Write a Python program to convert a list of characters into a string. \n",
    "l12 = [\"p\",\"a\",\"t\",\"e\",\"l\"]\n",
    "l13 = \"\".join(l12)\n",
    "l13"
   ]
  },
  {
   "cell_type": "code",
   "execution_count": 83,
   "id": "fc220a4e-1ad8-4fdd-a87e-9eb1a20be55d",
   "metadata": {},
   "outputs": [
    {
     "name": "stdout",
     "output_type": "stream",
     "text": [
      "3\n"
     ]
    }
   ],
   "source": [
    "#(38)Write a Python program to select an item randomly from a list. \n",
    "import random\n",
    "l14= [1,2,3,4,5,6,\"p\",\"q\"]\n",
    "print(random.choice(l14))\n"
   ]
  },
  {
   "cell_type": "code",
   "execution_count": 91,
   "id": "ac6438bf-8203-4126-94cf-a7cfeacda7f9",
   "metadata": {},
   "outputs": [
    {
     "data": {
      "text/plain": [
       "2"
      ]
     },
     "execution_count": 91,
     "metadata": {},
     "output_type": "execute_result"
    }
   ],
   "source": [
    "#(39)Write a Python program to find the second smallest number in a list. \n",
    "l15 = [1,2,3,5]\n",
    "l15.remove(min(l15))\n",
    "l16= min(l15)\n",
    "l16"
   ]
  },
  {
   "cell_type": "code",
   "execution_count": 97,
   "id": "8825ef7e-ce3c-423b-bff3-5cca84cde3eb",
   "metadata": {},
   "outputs": [
    {
     "name": "stdout",
     "output_type": "stream",
     "text": [
      "Unique List= {1, 2, 3, 4, 5, 'a'}\n"
     ]
    }
   ],
   "source": [
    "#(40)Write a Python program to get unique values from a list \n",
    "\n",
    "l17=[1,2,4,3,4,5,\"a\",\"a\",\"a\"]\n",
    "l18 = set(l17)\n",
    "print(\"Unique List=\", l18)"
   ]
  },
  {
   "cell_type": "code",
   "execution_count": 107,
   "id": "5db5722c-80b8-4f27-a12d-7591decaab2f",
   "metadata": {},
   "outputs": [
    {
     "name": "stdout",
     "output_type": "stream",
     "text": [
      "not sub list\n",
      "sub list\n"
     ]
    }
   ],
   "source": [
    "#(41)Write a Python program to check whether a list contains a sub list \n",
    "\n",
    "l19 = [1,2,3,4,5,6,7]\n",
    "l20 = [9,7]\n",
    "\n",
    "for i in l20:\n",
    "    if i in l19:\n",
    "        print(\"sub list\")\n",
    "        \n",
    "    else:\n",
    "        print(\"not sub list\")\n"
   ]
  },
  {
   "cell_type": "code",
   "execution_count": 113,
   "id": "8c41532a-f498-4154-a437-faac9c3cc8ed",
   "metadata": {},
   "outputs": [
    {
     "name": "stdout",
     "output_type": "stream",
     "text": [
      "(3, 4, 5)\n"
     ]
    },
    {
     "data": {
      "text/plain": [
       "(1, 2)"
      ]
     },
     "execution_count": 113,
     "metadata": {},
     "output_type": "execute_result"
    }
   ],
   "source": [
    "#(42)Write a Python program to split a list into different variables. \n",
    "l21 = [(1,2),(3,4,5)]\n",
    "l23,l22 = l21\n",
    "print(l22)\n",
    "l23\n",
    "\n"
   ]
  },
  {
   "cell_type": "code",
   "execution_count": null,
   "id": "3b6b3e46-097c-4877-b486-8219491d397d",
   "metadata": {},
   "outputs": [],
   "source": [
    "#(43)What is tuple? Difference between list and tuple. \n",
    "'''Tuples are used to store multiple items in a single variable.\n",
    "   Tuple is one of 4 built-in data types in Python used to store collections of data, the other 3 are List, Set, and Dictionary,\n",
    "   all with different qualities and usage.\n",
    "   A tuple is a collection which is ordered and unchangeable.\n",
    "\n",
    "   Diffrences:\n",
    "   Lists and Tuples in Python are two classes of Python Data Structures. The list structure is dynamic, and readily changed whereas \n",
    "   the tuple structure is static and cannot be changed. This means that the tuple is generally faster than the list. Lists are denoted\n",
    "   by square brackets and tuples are denoted with parenthesis."
   ]
  },
  {
   "cell_type": "code",
   "execution_count": 117,
   "id": "b98b8aae-ccec-482b-a2ec-e6e1a4da1e1c",
   "metadata": {},
   "outputs": [
    {
     "data": {
      "text/plain": [
       "tuple"
      ]
     },
     "execution_count": 117,
     "metadata": {},
     "output_type": "execute_result"
    }
   ],
   "source": [
    "#(44)Write a Python program to create a tuple with different data types. \n",
    "x32 = ( 7,\"dp\",8.5,[1,2,3],('a','b'))\n",
    "x32\n",
    "type(x32)"
   ]
  },
  {
   "cell_type": "code",
   "execution_count": 135,
   "id": "002787e1-e9a7-4eda-ba71-bc23bc407960",
   "metadata": {},
   "outputs": [
    {
     "data": {
      "text/plain": [
       "(('1', 'a', 'c', '7', 1),)"
      ]
     },
     "execution_count": 135,
     "metadata": {},
     "output_type": "execute_result"
    }
   ],
   "source": [
    "#(45)Write a Python program to unzip a list of tuples into individual lists. \n",
    "x33 = ('1','a','c','7',(1,2))\n",
    "x34 = tuple(zip(*x33))\n",
    "x34"
   ]
  },
  {
   "cell_type": "code",
   "execution_count": 5,
   "id": "5326fa70-725e-4041-9b2f-a6301c9a561f",
   "metadata": {},
   "outputs": [
    {
     "data": {
      "text/plain": [
       "{'a': 1, 'b': 2, 'c': 3}"
      ]
     },
     "execution_count": 5,
     "metadata": {},
     "output_type": "execute_result"
    }
   ],
   "source": [
    "#(46)Write a Python program to convert a list of tuples into a dictionary. \n",
    "x35 = [(\"a\",1),(\"b\",2),(\"c\",3)]\n",
    "dic2 = dict(x35)\n",
    "dic2"
   ]
  },
  {
   "cell_type": "code",
   "execution_count": 137,
   "id": "40d67adf-b3eb-4834-b53b-507a74198f48",
   "metadata": {},
   "outputs": [
    {
     "data": {
      "text/plain": [
       "{('dp', 'hp'), 1, 2}"
      ]
     },
     "execution_count": 137,
     "metadata": {},
     "output_type": "execute_result"
    }
   ],
   "source": [
    "#(47)How will you create a dictionary using tuples in python? \n",
    "dic = {1,2,(\"dp\",\"hp\")}\n",
    "dic\n"
   ]
  },
  {
   "cell_type": "code",
   "execution_count": null,
   "id": "00550721-6671-43eb-a0c1-4b99942c3e40",
   "metadata": {},
   "outputs": [],
   "source": [
    "#(48)Write a Python script to sort (ascending and descending) a dictionary by value. \n",
    "dic1= {1,2,6,4,8,3,5}\n",
    "set(dic)"
   ]
  },
  {
   "cell_type": "code",
   "execution_count": 19,
   "id": "86e5d449-168e-4098-8f51-4e06e5dccf27",
   "metadata": {},
   "outputs": [
    {
     "name": "stdout",
     "output_type": "stream",
     "text": [
      "{'a': 1, 'b': 2, 'p': 3, 'q': 4, 'x': 5, 'y': 6}\n"
     ]
    }
   ],
   "source": [
    "#(49)Write a Python script to concatenate following dictionaries to create a new one. \n",
    "dic3 = {'a':1,'b':2}\n",
    "dic4 = {'p':3,'q':4}\n",
    "dic5 = {'x':5,'y':6}\n",
    "\n",
    "dic6 = dic3.copy()\n",
    "dic6.update(dic4)\n",
    "dic6.update(dic5)\n",
    "\n",
    "print(dic6)\n"
   ]
  },
  {
   "cell_type": "code",
   "execution_count": 21,
   "id": "c4b59483-1f31-48f0-a3ec-7c89b55f6706",
   "metadata": {},
   "outputs": [
    {
     "name": "stdout",
     "output_type": "stream",
     "text": [
      "enter a key green\n"
     ]
    },
    {
     "name": "stdout",
     "output_type": "stream",
     "text": [
      "key is in dictionary\n"
     ]
    }
   ],
   "source": [
    "#(50)Write a Python script to check if a given key already exists in a dictionary. \n",
    "dic7 = { 'white':1,'blue':2,'green':3}\n",
    "key = input(\"enter a key:\")\n",
    "if key in dic7:\n",
    "    print(\"key is in dictionary\")\n",
    "else:\n",
    "    pint(\"key is  not in dictionary\")"
   ]
  },
  {
   "cell_type": "code",
   "execution_count": 33,
   "id": "057528a9-30b8-4248-be10-49dd77d33d9d",
   "metadata": {},
   "outputs": [
    {
     "name": "stdout",
     "output_type": "stream",
     "text": [
      "dict_keys(['color', 'id', 'dp'])\n",
      "dict_values(['white', 1, 3])\n",
      "dict_items([('color', 'white'), ('id', 1), ('dp', 3)])\n"
     ]
    }
   ],
   "source": [
    "#(51)How Do You Traverse Through a Dictionary Object in Python? \n",
    "dic8 = {'color':'white','id':1,'dp':3}\n",
    "x38=dic8.keys()\n",
    "x39=dic8.values()\n",
    "x40=dic8.items()\n",
    "print(x38)\n",
    "print(x39)\n",
    "print(x40)"
   ]
  },
  {
   "cell_type": "code",
   "execution_count": 35,
   "id": "f9e82f4e-083a-42da-8927-6941244dd815",
   "metadata": {},
   "outputs": [
    {
     "name": "stdout",
     "output_type": "stream",
     "text": [
      "enter a key: white\n"
     ]
    },
    {
     "name": "stdout",
     "output_type": "stream",
     "text": [
      "key is in dictionary\n"
     ]
    }
   ],
   "source": [
    "#(52)How Do You Check the Presence of a Key in A Dictionary? \n",
    "dic8 = { 'white':1,'blue':2,'green':3}\n",
    "key = input(\"enter a key:\")\n",
    "if key in dic8:\n",
    "    print(\"key is in dictionary\")\n",
    "else:\n",
    "    pint(\"key is  not in dictionary\")"
   ]
  },
  {
   "cell_type": "code",
   "execution_count": 131,
   "id": "f727a85a-f97b-481d-8dd1-20207cebb5ed",
   "metadata": {},
   "outputs": [
    {
     "name": "stdout",
     "output_type": "stream",
     "text": [
      "{1: '*', 2: '*', 3: '*', 4: '*', 5: '*', 6: '*', 7: '*', 8: '*', 9: '*', 10: '*', 11: '*', 12: '*', 13: '*', 14: '*', 15: '*'}\n"
     ]
    }
   ],
   "source": [
    "#(53)Write a Python script to print a dictionary where the keys are numbers between 1 and 15. \n",
    "dict1 = {}\n",
    "\n",
    "for key in range(1,16):\n",
    "    dict1[key] = '*'\n",
    "print(dict1)\n"
   ]
  },
  {
   "cell_type": "code",
   "execution_count": 39,
   "id": "f8c72fed-72d0-44a5-99fa-2b8be18dbefd",
   "metadata": {},
   "outputs": [
    {
     "name": "stdout",
     "output_type": "stream",
     "text": [
      " all key are in dictionary\n"
     ]
    }
   ],
   "source": [
    "#(54)Write a Python program to check multiple keys exists in a dictionary\n",
    "dic8 = { 'white':1,'blue':2,'green':3}\n",
    "key = ['white','blue','green']\n",
    "if all(i in dic8 for i in key):\n",
    "    print(\" all key are in dictionary\")\n",
    "else:\n",
    "    pint(\" all key  are not in dictionary\")"
   ]
  },
  {
   "cell_type": "code",
   "execution_count": 79,
   "id": "962d6f24-6bdc-4b68-a729-9e56e5ce86a7",
   "metadata": {},
   "outputs": [
    {
     "data": {
      "text/plain": [
       "{1, 2, 3, 4, 'a', 'b'}"
      ]
     },
     "execution_count": 79,
     "metadata": {},
     "output_type": "execute_result"
    }
   ],
   "source": [
    "#(55)Write a Python script to merge two Python dictionaries \n",
    "def merge(dic9,dic10):\n",
    "    return(dic9.update(dic10))\n",
    "dic9 = {1,2,3,4}\n",
    "dic10={'a','b'}\n",
    "merge(dic9,dic10)\n",
    "dic9"
   ]
  },
  {
   "cell_type": "code",
   "execution_count": 83,
   "id": "beffc722-bb08-4a49-b882-aef8fc9a879c",
   "metadata": {},
   "outputs": [
    {
     "data": {
      "text/plain": [
       "{'a': 1, 'b': 2, 'c': 3}"
      ]
     },
     "execution_count": 83,
     "metadata": {},
     "output_type": "execute_result"
    }
   ],
   "source": [
    "#(56)Write a Python program to map two lists into a dictionary \n",
    "#Sample output: Counter ({'a': 400, 'b': 400,’d’: 400, 'c': 300}). \n",
    "key = ['a','b','c']\n",
    "value = [1,2,3]\n",
    "dic11 = {}\n",
    "for  i in range(len(key)):\n",
    "    dic11[key[i]] = value[i]\n",
    "dic11"
   ]
  },
  {
   "cell_type": "code",
   "execution_count": 95,
   "id": "b38d7c8d-6d2a-44c4-a35c-9895da0c6328",
   "metadata": {},
   "outputs": [
    {
     "name": "stdout",
     "output_type": "stream",
     "text": [
      "the highest value is: [600, 800, 900]\n"
     ]
    }
   ],
   "source": [
    "#(57)Write a Python program to find the highest 3 values in a dictionary \n",
    "dic12= {100,200,600,900,500,800}\n",
    "lst = list(dic12)\n",
    "lst.sort()\n",
    "print(\"the highest three value is:\",lst[3:])"
   ]
  },
  {
   "cell_type": "code",
   "execution_count": 135,
   "id": "82c02bbd-c811-47a8-809c-6fbaa23f2530",
   "metadata": {},
   "outputs": [
    {
     "name": "stdout",
     "output_type": "stream",
     "text": [
      "{'item1': 1150, 'item2': 300}\n"
     ]
    }
   ],
   "source": [
    "#(58)Write a Python program to combine values in python list of dictionaries.\n",
    "#Sample data: [{'item': 'item1', 'amount': 400}, {'item': 'item2', 'amount':300}, o {'item': 'item1', 'amount': 750}]\n",
    "#Expected Output: Counter ({'item1': 1150, 'item2': 300})\n",
    "xdp = [\n",
    "    {'item': 'item1', 'amount': 400},\n",
    "    {'item': 'item2', 'amount': 300},\n",
    "    {'item': 'item1', 'amount': 750}]\n",
    "dictxx={}\n",
    "for i in xdp:\n",
    "    items = i[\"item\"]\n",
    "    amount = i[\"amount\"]\n",
    "    if items in dictxx:\n",
    "        dictxx[items] += amount\n",
    "    else:\n",
    "        dictxx[items] = amount\n",
    "print(dictxx)"
   ]
  },
  {
   "cell_type": "code",
   "execution_count": 97,
   "id": "075ae68e-c662-4a38-941b-54852a0efec9",
   "metadata": {},
   "outputs": [
    {
     "name": "stdout",
     "output_type": "stream",
     "text": [
      "enter a string adjfvjdsvdas\n"
     ]
    },
    {
     "name": "stdout",
     "output_type": "stream",
     "text": [
      "{'a': 2, 'd': 3, 'j': 2, 'f': 1, 'v': 2, 's': 2}\n"
     ]
    }
   ],
   "source": [
    "#(59)Write a Python program to create a dictionary from a string.\n",
    "#Note: Track the count of the letters from the string. \n",
    "\n",
    "str = input(\"enter a string\")\n",
    "char_count = {}\n",
    "for  i in str:\n",
    "    if  i in char_count:\n",
    "        char_count[i] += 1\n",
    "    else:\n",
    "        char_count[i] = 1\n",
    "print(char_count)"
   ]
  },
  {
   "cell_type": "code",
   "execution_count": 99,
   "id": "67a8766c-07f7-490d-ba96-779ee48ed133",
   "metadata": {},
   "outputs": [
    {
     "name": "stdout",
     "output_type": "stream",
     "text": [
      "{'w': 1, '3': 1, 'r': 2, 'e': 2, 's': 1, 'o': 1, 'u': 1, 'c': 1}\n"
     ]
    }
   ],
   "source": [
    "#(60)Sample string:\n",
    "# 'w3resource' Expected output: • {'3': 1,’s’: 1, 'r': 2, 'u': 1, 'w': 1, 'c': 1, 'e': 2, 'o': 1}\n",
    "str2 = \"w3resource\"\n",
    "char_count2 = {}\n",
    "for  j in str2:\n",
    "    if  j in char_count2:\n",
    "        char_count2[j] += 1\n",
    "    else:\n",
    "        char_count2[j] = 1\n",
    "print(char_count2)\n",
    "print"
   ]
  },
  {
   "cell_type": "code",
   "execution_count": 132,
   "id": "3c2299b4-84e3-4c40-b8bd-8f84f84bec2c",
   "metadata": {},
   "outputs": [
    {
     "name": "stdout",
     "output_type": "stream",
     "text": [
      "enter a number 6\n"
     ]
    },
    {
     "data": {
      "text/plain": [
       "720"
      ]
     },
     "execution_count": 132,
     "metadata": {},
     "output_type": "execute_result"
    }
   ],
   "source": [
    "#(61)Write a Python function to calculate the factorial of a number (anonnegative integer) \n",
    "import math\n",
    "x41 = int(input(\"enter a number\"))\n",
    "x42 = math.factorial(x41)\n",
    "x42"
   ]
  },
  {
   "cell_type": "code",
   "execution_count": 142,
   "id": "94ea4125-5a1e-4cf3-b5ca-740b8e56a0d4",
   "metadata": {},
   "outputs": [
    {
     "name": "stdout",
     "output_type": "stream",
     "text": [
      "enter start a number 1\n",
      "enter end number 20\n",
      "enter a number 34\n"
     ]
    },
    {
     "name": "stdout",
     "output_type": "stream",
     "text": [
      "False\n"
     ]
    }
   ],
   "source": [
    "#(62)Write a Python function to check whether a number is in a given range \n",
    "def r1(start,x43,end,):\n",
    "    return start <= x43 <= end\n",
    "start=int(input(\"enter start a number\"))\n",
    "end = int(input(\"enter end number\"))\n",
    "x43 = int(input(\"enter a number\"))\n",
    "print(r1(start,x43,end))"
   ]
  },
  {
   "cell_type": "code",
   "execution_count": 130,
   "id": "4d96de80-77f1-42a1-8e96-a0d641992711",
   "metadata": {},
   "outputs": [],
   "source": [
    "#(63)Write a Python function to check whether a number is perfect or not. \n"
   ]
  },
  {
   "cell_type": "code",
   "execution_count": 144,
   "id": "ccc38621-67d4-4327-a0dd-4c1aca28b420",
   "metadata": {},
   "outputs": [
    {
     "name": "stdout",
     "output_type": "stream",
     "text": [
      "enter a string dpd\n"
     ]
    },
    {
     "name": "stdout",
     "output_type": "stream",
     "text": [
      "it is palindrome\n"
     ]
    }
   ],
   "source": [
    "#(64)Write a Python function that checks whether a passed string is palindrome or not \n",
    "def pal(x):\n",
    "    return x == x[::-1]\n",
    "x44 = input(\"enter a string\")\n",
    "if pal(x44):\n",
    "    print(\"it is palindrome\")\n",
    "else:\n",
    "    print(\"it is bot palindrome\")"
   ]
  },
  {
   "cell_type": "code",
   "execution_count": null,
   "id": "1d50dbc1-bc64-4539-b102-f4b300690b25",
   "metadata": {},
   "outputs": [],
   "source": [
    "#(65)How Many Basic Types of Functions Are Available in Python? \n",
    "\"\"\"\n",
    "There are many functions  available in python.\n",
    "a)user defind functions : functions we create.\n",
    "b)Recursive functions : Functions that call themselsves.\n",
    "c) lambada function : small, anonymous functions. \n",
    "\"\"\""
   ]
  },
  {
   "cell_type": "code",
   "execution_count": 160,
   "id": "8745ae5b-fdfd-4cc0-9758-b1885c1e5354",
   "metadata": {},
   "outputs": [
    {
     "name": "stdout",
     "output_type": "stream",
     "text": [
      "4\n"
     ]
    }
   ],
   "source": [
    "#(66)How can you pick a random item from a list or tuple?\n",
    "import random\n",
    "lstx = [1,2,3,4,5]\n",
    "print(random.choice(lstx))\n"
   ]
  },
  {
   "cell_type": "code",
   "execution_count": 168,
   "id": "969bac90-11d2-47b8-8f2a-61075c1b98ef",
   "metadata": {},
   "outputs": [
    {
     "name": "stdout",
     "output_type": "stream",
     "text": [
      "5\n"
     ]
    }
   ],
   "source": [
    "#(67)How can you pick a random item from a range? \n",
    "print(random.randrange(1,8))"
   ]
  },
  {
   "cell_type": "code",
   "execution_count": 174,
   "id": "277f3b60-ae12-4b7f-b76f-44433a753f2f",
   "metadata": {},
   "outputs": [
    {
     "name": "stdout",
     "output_type": "stream",
     "text": [
      "0.5052021975776934\n"
     ]
    }
   ],
   "source": [
    "#(68)How can you get a random number in python?\n",
    "random.seed()\n",
    "print(random.random())"
   ]
  },
  {
   "cell_type": "code",
   "execution_count": 176,
   "id": "1fcfeeb0-eb5c-41d0-a3ef-e7f9de844083",
   "metadata": {},
   "outputs": [
    {
     "name": "stdout",
     "output_type": "stream",
     "text": [
      "Enter the strating number : 3\n"
     ]
    },
    {
     "name": "stdout",
     "output_type": "stream",
     "text": [
      "7\n"
     ]
    }
   ],
   "source": [
    "#(69)How will you set the starting value in generating random numbers?\n",
    "xx = int(input(\"Enter the strating number :\"))\n",
    "\n",
    "xy = random.randrange(xx,50)\n",
    "print(xy)"
   ]
  },
  {
   "cell_type": "code",
   "execution_count": 178,
   "id": "695855d9-a020-4440-8223-03cd63728a53",
   "metadata": {},
   "outputs": [
    {
     "name": "stdout",
     "output_type": "stream",
     "text": [
      "old [2, 4, 6, 8, 5]\n"
     ]
    },
    {
     "data": {
      "text/plain": [
       "[8, 5, 2, 4, 6]"
      ]
     },
     "execution_count": 178,
     "metadata": {},
     "output_type": "execute_result"
    }
   ],
   "source": [
    "#(70) How will you randomize the items of a list in place? \n",
    "lst20 = [2,4,6,8,5]\n",
    "print(\"old\",lst20)\n",
    "random.shuffle(lst20)\n",
    "lst20"
   ]
  },
  {
   "cell_type": "code",
   "execution_count": null,
   "id": "45c53c6c-85d3-4d1a-82cf-c7b324518294",
   "metadata": {},
   "outputs": [],
   "source": [
    "#(71)What is File function in python? What are keywords to create and write file. \n",
    "\"\"\"\n",
    "In python file function is part of a web application.\n",
    "there are several keywords to create and write a file . To create a file keyword is 'x' and for write file is 'w'.\n",
    "\"\"\""
   ]
  },
  {
   "cell_type": "code",
   "execution_count": 180,
   "id": "59a3826d-7b04-4f49-85d0-36d1a57781d2",
   "metadata": {},
   "outputs": [
    {
     "name": "stdout",
     "output_type": "stream",
     "text": [
      "hii, this is temporary file\n"
     ]
    }
   ],
   "source": [
    "#(72)Write a Python program to read an entire text file. \n",
    "aa = open(\"example.txt\")\n",
    "print(aa.read())"
   ]
  },
  {
   "cell_type": "code",
   "execution_count": 11,
   "id": "6fc6d027-232e-4ff0-9084-245a14dcb5c3",
   "metadata": {},
   "outputs": [
    {
     "name": "stdout",
     "output_type": "stream",
     "text": [
      "hii, this is temporary filetxttxttxttxttxt\n"
     ]
    }
   ],
   "source": [
    "#(73)Write a Python program to append text to a file and display the text. \n",
    "\n",
    "aa = open(\"example.txt\", \"a\")\n",
    "aa.write(\"txt\")\n",
    "aa.close()\n",
    "aa = open(\"example.txt\", \"r\")\n",
    "print(aa.read())"
   ]
  },
  {
   "cell_type": "code",
   "execution_count": 3,
   "id": "51d59750-b532-4fe2-964b-a6495cf9bfd1",
   "metadata": {},
   "outputs": [
    {
     "name": "stdout",
     "output_type": "stream",
     "text": [
      "hii, this is temporary filetxttxttxttxttxt\n"
     ]
    }
   ],
   "source": [
    "#(74)Write a Python program to read first n lines of a file. \n",
    "ab = open(\"example.txt\",\"r\")\n",
    "print(ab.readline())"
   ]
  },
  {
   "cell_type": "code",
   "execution_count": 9,
   "id": "9dfec6cd-1003-443b-9573-4f28db2d1256",
   "metadata": {},
   "outputs": [
    {
     "name": "stdout",
     "output_type": "stream",
     "text": [
      " hello my name is dp\n"
     ]
    }
   ],
   "source": [
    "#(75)Write a Python program to read last n lines of a file.\n",
    "ac = open(\"example.txt\",\"a\")\n",
    "ac.write(\"\\n hello my name is dp\")\n",
    "ac.close()\n",
    "ac = open(\"example.txt\",\"r\")\n",
    "p = list(ac.readlines())\n",
    "print(p[-1])\n"
   ]
  },
  {
   "cell_type": "code",
   "execution_count": 15,
   "id": "58c1c2d3-2c1f-4867-a4c3-0127f64e8444",
   "metadata": {},
   "outputs": [
    {
     "name": "stdout",
     "output_type": "stream",
     "text": [
      "['hii, this is temporary filetxttxttxttxttxt\\n', ' hello my name is dp\\n', ' hello my name is dp\\n', ' hello my name is dp']\n"
     ]
    }
   ],
   "source": [
    "#(76)Write a Python program to read a file line by line and store it into a list \n",
    "ad = open(\"example.txt\",\"r\")\n",
    "q = list(ad.readlines())\n",
    "print(q)\n",
    "\n"
   ]
  },
  {
   "cell_type": "code",
   "execution_count": 21,
   "id": "99f0b8fe-adb8-4cda-94b7-c7aaacf2f84c",
   "metadata": {},
   "outputs": [
    {
     "name": "stdout",
     "output_type": "stream",
     "text": [
      "['hii, this is temporary filetxttxttxttxttxt\\n', ' hello my name is dp\\n', ' hello my name is dp\\n', ' hello my name is dp']\n"
     ]
    }
   ],
   "source": [
    "#(77)Write a Python program to read a file line by line store it into a variable. \n",
    "ad = open(\"example.txt\",\"r\")\n",
    "q = str(ad.readlines())\n",
    "print(q)"
   ]
  },
  {
   "cell_type": "code",
   "execution_count": 45,
   "id": "a9f447b7-c7e0-44ad-89df-1dfac242905d",
   "metadata": {},
   "outputs": [
    {
     "data": {
      "text/plain": [
       "'filetxttxttxttxttxt'"
      ]
     },
     "execution_count": 45,
     "metadata": {},
     "output_type": "execute_result"
    }
   ],
   "source": [
    "#(78)Write a python program to find the longest words. \n",
    "ae = open(\"example.txt\",\"r\")\n",
    "x = ae.read()\n",
    "y=x.split()\n",
    "y\n",
    "max_word=max(y,key=len)\n",
    "max_word"
   ]
  },
  {
   "cell_type": "code",
   "execution_count": 35,
   "id": "912c8f21-7034-4a7e-b805-edb9c035ce26",
   "metadata": {},
   "outputs": [
    {
     "data": {
      "text/plain": [
       "4"
      ]
     },
     "execution_count": 35,
     "metadata": {},
     "output_type": "execute_result"
    }
   ],
   "source": [
    "#(79)Write a Python program to count the number of lines in a text file. \n",
    "af= open(\"example.txt\",\"r\")\n",
    "a = len(af.readlines())\n",
    "a"
   ]
  },
  {
   "cell_type": "code",
   "execution_count": 53,
   "id": "7aa16168-6e53-47e5-9441-4863817a8416",
   "metadata": {},
   "outputs": [
    {
     "name": "stdout",
     "output_type": "stream",
     "text": [
      "{'hii,': 1, 'this': 1, 'is': 4, 'temporary': 1, 'filetxttxttxttxttxt': 1, 'hello': 3, 'my': 3, 'name': 3, 'dp': 3}\n"
     ]
    },
    {
     "data": {
      "text/plain": [
       "['hii,',\n",
       " 'this',\n",
       " 'is',\n",
       " 'temporary',\n",
       " 'filetxttxttxttxttxt',\n",
       " 'hello',\n",
       " 'my',\n",
       " 'name',\n",
       " 'is',\n",
       " 'dp',\n",
       " 'hello',\n",
       " 'my',\n",
       " 'name',\n",
       " 'is',\n",
       " 'dp',\n",
       " 'hello',\n",
       " 'my',\n",
       " 'name',\n",
       " 'is',\n",
       " 'dp']"
      ]
     },
     "execution_count": 53,
     "metadata": {},
     "output_type": "execute_result"
    }
   ],
   "source": [
    "#(80)Write a Python program to count the frequency of words in a file. \n",
    "def countt(ag):\n",
    "    char_count = {}\n",
    "\n",
    "    for char in ag:\n",
    "        if char in char_count:\n",
    "            char_count[char] += 1\n",
    "        else:\n",
    "            char_count[char] = 1\n",
    "        \n",
    "    return char_count\n",
    "\n",
    "print(countt(y))\n",
    "y"
   ]
  },
  {
   "cell_type": "code",
   "execution_count": 83,
   "id": "a00a21a2-0290-4e1d-b3f6-d58d973a74ab",
   "metadata": {},
   "outputs": [
    {
     "name": "stdout",
     "output_type": "stream",
     "text": [
      "abcdp\n"
     ]
    }
   ],
   "source": [
    "#(81)Write a Python program to write a list to a file. \n",
    "lst = ['a','b','c','dp']\n",
    "ah= open(\"example1.txt\",\"w\")\n",
    "for i in lst:\n",
    "    ah.write(i)\n",
    "ah.close()\n",
    "ai= open(\"example1.txt\",\"r\")\n",
    "print(ai.read())\n",
    "\n",
    "\n"
   ]
  },
  {
   "cell_type": "code",
   "execution_count": 91,
   "id": "ae44e9a6-2b60-4ce3-8d41-94679d2cca14",
   "metadata": {},
   "outputs": [
    {
     "name": "stdout",
     "output_type": "stream",
     "text": [
      "\n"
     ]
    }
   ],
   "source": [
    "#(82)Write a Python program to copy the contents of a file to another file\n",
    "aj= open(\"example1.txt\",\"a\")\n",
    "ak = open(\"example.txt\",\"r\")\n",
    "x = aj.write(ak.read())\n"
   ]
  },
  {
   "cell_type": "code",
   "execution_count": null,
   "id": "4a292664-4e4f-4e1f-8211-04d73b22062e",
   "metadata": {},
   "outputs": [],
   "source": [
    "#(83)Explain Exception handling? What is an Error in Python? \n",
    "\"\"\" In Python, when an error occurs, Python will generate an error message , exceptions are assigned by try statement.  \n",
    "In Python, Errors are problems in a program that causes the program to stop its execution.\"\"\""
   ]
  },
  {
   "cell_type": "code",
   "execution_count": null,
   "id": "e8478cc3-4f68-497f-ab5c-1552f3434cca",
   "metadata": {},
   "outputs": [],
   "source": [
    "#(84)How many except statements can a try-except block have? Name Some built-in exception classes:\n",
    "\"\"\"\n",
    "A try-except block can have multiple except statements. \n",
    "You can use different except clauses to handle various exceptions, or combine them in one except statement using a tuple.\n",
    "\n",
    "Python has many built-in exception classes, including:\n",
    "\n",
    "Exception – The base class for all exceptions.\n",
    "ValueError – Raised when a function gets a valid type but an incorrect value.\n",
    "IndexError – Raised when an invalid index is used in a list or tuple.\n",
    "KeyError – Raised when a dictionary key doesn't exist.\n",
    "TypeError – Raised when an operation is applied to an incorrect type.\n",
    "FileNotFoundError – Raised when a file cannot be found.\n",
    "AttributeError – Raised when an attribute reference fails.\n",
    "IOError – Raised for input/output issues (e.g., file reading errors).\n",
    "ImportError – Raised when an import fails.\n",
    "MemoryError – Raised when there is not enough memory to continue.\"\"\""
   ]
  },
  {
   "cell_type": "code",
   "execution_count": null,
   "id": "deeee011-3667-421d-9a6a-df2b9e6603c8",
   "metadata": {},
   "outputs": [],
   "source": [
    "#(85)When will the else part of try-except-else be executed?\n",
    "\"\"\"\n",
    "when the code inside the try block will run without giving any errors than Else part of the code will executed (run). If an exception occurs in\n",
    "try block than except bolck will be executed without touching the else part.\n",
    "\"\"\""
   ]
  },
  {
   "cell_type": "code",
   "execution_count": null,
   "id": "07a19a8e-5b6c-4404-baca-464f9a640034",
   "metadata": {},
   "outputs": [],
   "source": [
    "#(86)Can one block of except statements handle multiple exception?\n",
    "\"\"\"\n",
    "Yes, one block of except statements can handle multiple exception in a tuple .\n",
    "\"\"\""
   ]
  },
  {
   "cell_type": "code",
   "execution_count": null,
   "id": "7c6a515d-fac6-4765-9252-a36700fc2b76",
   "metadata": {},
   "outputs": [],
   "source": [
    "#(87)When is the finally block executed? \n",
    "\"\"\"\n",
    "In Python language, the finally block is always executed, whether or not an exception is raised. \n",
    "It runs after the except and try blocks which is commonly used for cleanup tasks.\n",
    "\"\"\""
   ]
  },
  {
   "cell_type": "code",
   "execution_count": 93,
   "id": "7d77c9b2-c8a5-4f11-b6ce-42fa46830967",
   "metadata": {},
   "outputs": [
    {
     "name": "stdout",
     "output_type": "stream",
     "text": [
      "False\n"
     ]
    }
   ],
   "source": [
    "#(88)What happens when „1‟== 1 is executed?\n",
    "\"\"\"\n",
    "It will returns output as False.\n",
    " 1 assigns as a integar value and \"1\" will assigned as  a string.\n",
    " \"\"\"\n",
    "print(\"1\" == 1) "
   ]
  },
  {
   "cell_type": "code",
   "execution_count": 95,
   "id": "b8194777-1e8c-4575-ae38-ff2f10b401cb",
   "metadata": {},
   "outputs": [
    {
     "name": "stdout",
     "output_type": "stream",
     "text": [
      "hello\n",
      "hey\n"
     ]
    }
   ],
   "source": [
    "#(89)How Do You Handle Exceptions with Try/Except/Finally in Python? Explain with coding snippets. \n",
    "\"\"\"\n",
    " The try block lets you test a block of code for errors.\n",
    "The except block lets you handle the error.\n",
    "The finally block lets you execute code, regardless of the result of the try- and except blocks.\n",
    "\"\"\"\n",
    "try:\n",
    "    print(x1)\n",
    "except:\n",
    "    print(\"hello\")\n",
    "finally:\n",
    "    print(\"hey\")"
   ]
  },
  {
   "cell_type": "code",
   "execution_count": 107,
   "id": "ddac26b3-e8fe-4575-9c13-44d44b3f6324",
   "metadata": {},
   "outputs": [
    {
     "name": "stdout",
     "output_type": "stream",
     "text": [
      "Enter odd number:  2\n"
     ]
    },
    {
     "name": "stdout",
     "output_type": "stream",
     "text": [
      "<class 'ValueError'>\n"
     ]
    }
   ],
   "source": [
    "#(90)Write python program that user to enter only odd numbers, else will raise an exception. \n",
    "try:\n",
    "    dp = int(input(\"Enter odd number: \"))\n",
    "    if dp % 2 == 0:\n",
    "        raise (ValueError(\"Error: The number is not odd number!\"))\n",
    "    print(f\"odd number: {dp}\")\n",
    "except ValueError:\n",
    "    print(ValueError)\n"
   ]
  },
  {
   "cell_type": "code",
   "execution_count": 1,
   "id": "aa81bd65",
   "metadata": {},
   "outputs": [
    {
     "name": "stdout",
     "output_type": "stream",
     "text": [
      "{'brand': 'Ford', 'model': 'Mustang', 'year': 1964}\n",
      "{'brand': 'Kushal', 'model': 'Mustang', 'year': 1964}\n"
     ]
    }
   ],
   "source": [
    "thisdict =\t{\n",
    "  \"brand\": \"Ford\",\n",
    "  \"model\": \"Mustang\",\n",
    "  \"year\": 1964\n",
    "}\n",
    "\n",
    "thisdict1 =\t{\n",
    "  \"brand\": \"Ford\",\n",
    "  \"model\": \"Mustang\",\n",
    "  \"year\": 1964,\n",
    "  \"brand\" : \"Kushal\"\n",
    "}\n",
    "\n",
    "print(thisdict)\n",
    "print(thisdict1)"
   ]
  },
  {
   "cell_type": "code",
   "execution_count": 16,
   "id": "1a79e0a3",
   "metadata": {},
   "outputs": [
    {
     "ename": "ValueError",
     "evalue": "dictionary update sequence element #0 has length 3; 2 is required",
     "output_type": "error",
     "traceback": [
      "\u001b[1;31m---------------------------------------------------------------------------\u001b[0m",
      "\u001b[1;31mValueError\u001b[0m                                Traceback (most recent call last)",
      "\u001b[1;32m~\\AppData\\Local\\Temp\\ipykernel_9816\\1482535854.py\u001b[0m in \u001b[0;36m<module>\u001b[1;34m\u001b[0m\n\u001b[0;32m      6\u001b[0m     \u001b[0mcity\u001b[0m \u001b[1;33m=\u001b[0m \u001b[0minput\u001b[0m\u001b[1;33m(\u001b[0m\u001b[1;34m\"city:-\"\u001b[0m\u001b[1;33m)\u001b[0m\u001b[1;33m\u001b[0m\u001b[1;33m\u001b[0m\u001b[0m\n\u001b[0;32m      7\u001b[0m     \u001b[0mw\u001b[0m\u001b[1;33m.\u001b[0m\u001b[0mappend\u001b[0m\u001b[1;33m(\u001b[0m\u001b[1;33m{\u001b[0m\u001b[1;34m\"name\"\u001b[0m\u001b[1;33m:\u001b[0m\u001b[0mname\u001b[0m\u001b[1;33m,\u001b[0m\u001b[1;34m\"id\"\u001b[0m \u001b[1;33m:\u001b[0m\u001b[0mid\u001b[0m\u001b[1;33m,\u001b[0m\u001b[1;34m\"city\"\u001b[0m \u001b[1;33m:\u001b[0m \u001b[0mcity\u001b[0m\u001b[1;33m}\u001b[0m\u001b[1;33m)\u001b[0m\u001b[1;33m\u001b[0m\u001b[1;33m\u001b[0m\u001b[0m\n\u001b[1;32m----> 8\u001b[1;33m \u001b[0mdict\u001b[0m\u001b[1;33m(\u001b[0m\u001b[0mw\u001b[0m\u001b[1;33m)\u001b[0m\u001b[1;33m\u001b[0m\u001b[1;33m\u001b[0m\u001b[0m\n\u001b[0m",
      "\u001b[1;31mValueError\u001b[0m: dictionary update sequence element #0 has length 3; 2 is required"
     ]
    }
   ],
   "source": [
    "w =[]\n",
    "\n",
    "for i in range(1,4):\n",
    "    name = input(\"name:-\")\n",
    "    id = int(input(\"ID:-\"))\n",
    "    city = input(\"city:-\")\n",
    "    w.append({\"name\":name,\"id\" :id,\"city\" : city})\n"
   ]
  },
  {
   "cell_type": "code",
   "execution_count": 25,
   "id": "40e85ab7",
   "metadata": {},
   "outputs": [
    {
     "name": "stdout",
     "output_type": "stream",
     "text": [
      "{1: {'id': 1, 'name': 'k', 'city': 'ds'}, 2: {'id': 2, 'name': 'nu', 'city': 'asd'}, 3: {'id': 5, 'name': 'lius', 'city': 'mo'}}\n"
     ]
    }
   ],
   "source": [
    "w = {}\n",
    "\n",
    "for i in range(1, 4):\n",
    "    name = input(\"Name: \")\n",
    "    id = int(input(\"ID: \"))\n",
    "    city = input(\"City: \")\n",
    "    w[i] = {\"id\": id, \"name\": name, \"city\": city}\n",
    "\n",
    "print(w)\n"
   ]
  },
  {
   "cell_type": "code",
   "execution_count": 11,
   "id": "bd555969",
   "metadata": {},
   "outputs": [
    {
     "name": "stdout",
     "output_type": "stream",
     "text": [
      "{'name': ['kushal', '5', 'prashant'], 'id': [], 'city': []}\n"
     ]
    }
   ],
   "source": [
    "print(w)"
   ]
  },
  {
   "cell_type": "code",
   "execution_count": 31,
   "id": "43bc05d2",
   "metadata": {},
   "outputs": [],
   "source": [
    "a =20\n",
    "b = 45\n"
   ]
  },
  {
   "cell_type": "code",
   "execution_count": 32,
   "id": "ea03bfd3",
   "metadata": {},
   "outputs": [],
   "source": [
    "c = a \n",
    "a = b\n",
    "b = c"
   ]
  },
  {
   "cell_type": "code",
   "execution_count": 33,
   "id": "b2927b64",
   "metadata": {},
   "outputs": [
    {
     "name": "stdout",
     "output_type": "stream",
     "text": [
      "45 20\n"
     ]
    }
   ],
   "source": [
    "print(a,b)"
   ]
  },
  {
   "cell_type": "code",
   "execution_count": 37,
   "id": "ee019cfd",
   "metadata": {},
   "outputs": [
    {
     "name": "stdout",
     "output_type": "stream",
     "text": [
      "10 multiply by 2\n"
     ]
    }
   ],
   "source": [
    "a = int(input(\"Enter The number to check:-\"))\n",
    "mul = int(input(\"Multiply number:-\"))\n",
    "\n",
    "if a%mul == 0:\n",
    "    print(f\"{a} multiply by {mul}\")\n",
    "else:\n",
    "    print(f\"{a} doest not a {mul} multiply\")\n",
    "    "
   ]
  },
  {
   "cell_type": "code",
   "execution_count": 67,
   "id": "03fdc4e4",
   "metadata": {},
   "outputs": [
    {
     "name": "stdout",
     "output_type": "stream",
     "text": [
      "Valid Password\n"
     ]
    }
   ],
   "source": [
    "a = input(\"Enter:-\")\n",
    "\n",
    "if a.isnumeric() == True:\n",
    "    print(\"Valid Password\")\n",
    "else:\n",
    "    print(\"Invalid Password\")\n"
   ]
  },
  {
   "cell_type": "code",
   "execution_count": 55,
   "id": "8f8ee869",
   "metadata": {},
   "outputs": [],
   "source": [
    "try:\n",
    "    a = int(input(\"Enter the Number:\"))\n",
    "    print(\"Valid Password\")\n",
    "except ValueError:\n",
    "    print(\"Invalid Password\") "
   ]
  }
 ],
 "metadata": {
  "kernelspec": {
   "display_name": "Python [conda env:base] *",
   "language": "python",
   "name": "conda-base-py"
  },
  "language_info": {
   "codemirror_mode": {
    "name": "ipython",
    "version": 3
   },
   "file_extension": ".py",
   "mimetype": "text/x-python",
   "name": "python",
   "nbconvert_exporter": "python",
   "pygments_lexer": "ipython3",
   "version": "3.12.7"
  }
 },
 "nbformat": 4,
 "nbformat_minor": 5
}
